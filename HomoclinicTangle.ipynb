{
 "cells": [
  {
   "cell_type": "code",
   "execution_count": 1,
   "metadata": {
    "collapsed": true
   },
   "outputs": [],
   "source": [
    "import numpy as np\n",
    "import matplotlib.pyplot as plt\n",
    "from ipywidgets import interact"
   ]
  },
  {
   "cell_type": "code",
   "execution_count": 2,
   "metadata": {
    "collapsed": true
   },
   "outputs": [],
   "source": [
    "def eigenBasis(k): # Returns the stable and unstable directions of G\n",
    "    disc = np.sqrt(k*(k+4))/2\n",
    "    vec1 = np.array([1,-k/2 + disc]); vec1/=np.linalg.norm(vec1)\n",
    "    vec2 = np.array([1,-k/2 - disc]); vec2/=np.linalg.norm(vec2)\n",
    "    return np.array([vec1,vec2])"
   ]
  },
  {
   "cell_type": "code",
   "execution_count": 3,
   "metadata": {
    "collapsed": true
   },
   "outputs": [],
   "source": [
    "def propagate(iterates,F,nIters): # Applies map F nIters times to iterates and unions the results\n",
    "    pointSet = iterates\n",
    "    for i in np.arange(nIters):\n",
    "        iterates = F(iterates)                #filter out points too far away\n",
    "        iterates = iterates[:,np.logical_and(iterates[0]<15, iterates[1]>-15)] \n",
    "        pointSet = np.concatenate((pointSet,iterates),axis=1)\n",
    "    return pointSet"
   ]
  },
  {
   "cell_type": "code",
   "execution_count": 4,
   "metadata": {
    "collapsed": true
   },
   "outputs": [],
   "source": [
    "def UandSmanifolds(k,d=0,mPoints=1000,nIter=15):\n",
    "    fp = np.array([1,0])\n",
    "    [unstableDir,stableDir] = eigenBasis(k)\n",
    "    \n",
    "    unstableStart = np.linspace(d,0,mPoints)[None,:]*unstableDir[:,None] + fp[:,None]\n",
    "    G = lambda X: np.array([X[0] + k*X[0]*(X[0]-1) +X[1],k*X[0]*(X[0]-1) + X[1]])\n",
    "    unstableSet = propagate(unstableStart,G,nIter)\n",
    "    \n",
    "    stableStart = np.linspace(d,0,mPoints)[None,:]*stableDir[:,None] + fp[:,None]\n",
    "    Ginv = lambda X: np.array([X[0]-X[1], X[1]-k*(X[0]-X[1])*(X[0]-X[1]-1)])\n",
    "    stableSet = propagate(stableStart,Ginv,nIter)    \n",
    "    \n",
    "    return (unstableSet,stableSet)"
   ]
  },
  {
   "cell_type": "code",
   "execution_count": 5,
   "metadata": {
    "scrolled": false
   },
   "outputs": [
    {
     "data": {
      "application/vnd.jupyter.widget-view+json": {
       "model_id": "2b28cdd21dc54f19b8ff84c7e97a27c6",
       "version_major": 2,
       "version_minor": 0
      },
      "text/plain": [
       "A Jupyter Widget"
      ]
     },
     "metadata": {},
     "output_type": "display_data"
    },
    {
     "data": {
      "text/plain": [
       "<function __main__.showPlots>"
      ]
     },
     "execution_count": 5,
     "metadata": {},
     "output_type": "execute_result"
    }
   ],
   "source": [
    "def doPlots(k,logd, mPoints=1000):\n",
    "    ([xu,yu],[xs,ys]) = UandSmanifolds(k,-0.01*10**logd, mPoints)\n",
    "    plt.scatter(xu,yu,c='g',s=0.2)\n",
    "    plt.scatter(xs,ys,c='k',s=0.2)\n",
    "    plt.xlim(-.8,1.5)\n",
    "    plt.ylim(-1.3,1.3)\n",
    "\n",
    "def showPlots(k=1.5,logd=0):\n",
    "    doPlots(k,logd)\n",
    "    plt.show()\n",
    "\n",
    "interact(showPlots,k=(0.1,3),logd=(-3,1,.5))"
   ]
  },
  {
   "cell_type": "code",
   "execution_count": 6,
   "metadata": {
    "scrolled": false
   },
   "outputs": [
    {
     "data": {
      "application/vnd.jupyter.widget-view+json": {
       "model_id": "15fb60736e464c39a7dd08b3fb928316",
       "version_major": 2,
       "version_minor": 0
      },
      "text/plain": [
       "A Jupyter Widget"
      ]
     },
     "metadata": {},
     "output_type": "display_data"
    },
    {
     "data": {
      "text/plain": [
       "<function __main__.trace>"
      ]
     },
     "execution_count": 6,
     "metadata": {},
     "output_type": "execute_result"
    }
   ],
   "source": [
    "def trace(k,logd,n,stable):\n",
    "    doPlots(k,1,600)\n",
    "    \n",
    "    stable = int(stable) # cast bool to int\n",
    "    [xt,yt] = UandSmanifolds(k,-0.01*10**logd,mPoints=1,nIter=n)[stable]\n",
    "    \n",
    "    plt.scatter(xt,yt,c='r',s=30)\n",
    "    plt.show()\n",
    "    \n",
    "interact(trace,k=(0.1,3),n=(0,40),logd=(-3.,0.),stable=True)"
   ]
  },
  {
   "cell_type": "code",
   "execution_count": null,
   "metadata": {
    "collapsed": true
   },
   "outputs": [],
   "source": []
  },
  {
   "cell_type": "code",
   "execution_count": null,
   "metadata": {
    "collapsed": true
   },
   "outputs": [],
   "source": []
  }
 ],
 "metadata": {
  "kernelspec": {
   "display_name": "Python 3",
   "language": "python",
   "name": "python3"
  },
  "language_info": {
   "codemirror_mode": {
    "name": "ipython",
    "version": 3
   },
   "file_extension": ".py",
   "mimetype": "text/x-python",
   "name": "python",
   "nbconvert_exporter": "python",
   "pygments_lexer": "ipython3",
   "version": "3.6.3"
  }
 },
 "nbformat": 4,
 "nbformat_minor": 2
}
